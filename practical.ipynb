{
 "cells": [
  {
   "cell_type": "markdown",
   "id": "ce5ad70c",
   "metadata": {},
   "source": [
    "# PRACTICAL PALEOGENOMICS EVOLUTIONARY BIOLOGY CRASH COURSE 2023"
   ]
  },
  {
   "cell_type": "markdown",
   "id": "67402809",
   "metadata": {},
   "source": [
    "Following sequencing, the outputted reads are processed through programmes in order to remove adapters + filter data ahead of further downstream analyses. This is a crucial step which is performed on all shotgun data.\n",
    "\n",
    "For this Practical, we have selected published human sequences which have already been pre-processed in order to save time. However, these are crucial steps in data analyses which you should all be aware of."
   ]
  },
  {
   "cell_type": "markdown",
   "id": "951c1afa",
   "metadata": {},
   "source": [
    "Following these pre-processing steps, the reads are mapped to a reference genome. In this exercise the reference used is the human mitochondrial genome of hg38."
   ]
  },
  {
   "cell_type": "markdown",
   "id": "9ff491b5",
   "metadata": {},
   "source": [
    "We have mapped two ancient human samples from Paso del Indio, in Puerto Rico, dated as 1200±44 B.P. to this reference using BOWTIE2 (chosen over other mappers due to computational efficiency)."
   ]
  },
  {
   "cell_type": "markdown",
   "id": "8fb2f9b4",
   "metadata": {},
   "source": [
    "![alternatvie text](https://training.galaxyproject.org/training-material/topics/sequence-analysis/images/mapping/mapping.png)\n"
   ]
  },
  {
   "cell_type": "markdown",
   "id": "6001952f",
   "metadata": {},
   "source": [
    "\n",
    "\n",
    "\n",
    "Following this mapping process, the outputted BAMS were inputted into Qualimap. For this practical you will have to look at the Qualimap output, and answer the following questions:"
   ]
  },
  {
   "cell_type": "markdown",
   "id": "da76c5e2",
   "metadata": {},
   "source": [
    "**1. What are the main differences between the two samples Global summary statistics?**"
   ]
  },
  {
   "cell_type": "markdown",
   "id": "f7fc3d59",
   "metadata": {},
   "source": [
    "**2. What are the coverage histograms and genome fraction coverage plots in both samples telling us? Why is this useful?**"
   ]
  },
  {
   "cell_type": "markdown",
   "id": "e0851416",
   "metadata": {},
   "source": [
    "**3. Have a look at the fragment misincorporation plots. What is the expectation for ancient DNA? What do you see in these plots?**"
   ]
  },
  {
   "cell_type": "markdown",
   "id": "eb793f53",
   "metadata": {},
   "source": [
    "**4. Are both of our samples following the expectations for ancient DNA in terms of length and deamination patterns? If you had modern contamination, would the read length distribution plots look any different? If yes, in what way?**"
   ]
  },
  {
   "cell_type": "markdown",
   "id": "8947bbb4",
   "metadata": {},
   "source": [
    "**5. Considering the above results, would these samples be good candidates for further downstream ancient DNA analyses? Why yes/not?**"
   ]
  },
  {
   "cell_type": "markdown",
   "id": "1621a573",
   "metadata": {},
   "source": [
    "## Files\n",
    "### **Not included**: \n",
    "**1. Raw Fastq**\n",
    "\n",
    "How to get them:"
   ]
  },
  {
   "cell_type": "raw",
   "id": "1db40afd",
   "metadata": {},
   "source": [
    "curl -L ftp://ftp.sra.ebi.ac.uk/vol1/fastq/SRR989/002/SRR9898432/SRR9898432.fastq.gz -o SRR9898432.fastq.gz\n",
    "\n",
    "curl -L ftp://ftp.sra.ebi.ac.uk/vol1/fastq/SRR989/002/SRR9898432/SRR9898432.fastq.gz -o SRR9898432.fastq.gz"
   ]
  },
  {
   "cell_type": "markdown",
   "id": "38bbe8fb",
   "metadata": {},
   "source": [
    "**2. Reference mitochondrial genome**\n",
    "\n",
    "You can find the FASTA file for the human reference mitochondrial genome here:\n",
    "\n",
    "https://www.ncbi.nlm.nih.gov/nuccore/NC_012920.1?report=fasta"
   ]
  },
  {
   "cell_type": "markdown",
   "id": "4661cc55",
   "metadata": {},
   "source": [
    "**3. BAM files**\n",
    "The BAM files are available on the Drive folder of the practical in **DATA** &rarr; **mit_genome** &rarr; **BAM**"
   ]
  }
 ],
 "metadata": {
  "kernelspec": {
   "display_name": "R",
   "language": "R",
   "name": "ir"
  },
  "language_info": {
   "codemirror_mode": "r",
   "file_extension": ".r",
   "mimetype": "text/x-r-source",
   "name": "R",
   "pygments_lexer": "r",
   "version": "4.3.0"
  }
 },
 "nbformat": 4,
 "nbformat_minor": 5
}
